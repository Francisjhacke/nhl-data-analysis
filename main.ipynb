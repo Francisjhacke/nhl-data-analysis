{
 "cells": [
  {
   "cell_type": "code",
   "execution_count": 1,
   "metadata": {},
   "outputs": [],
   "source": [
    "import pandas as pd\n",
    "import numpy as np"
   ]
  },
  {
   "cell_type": "markdown",
   "metadata": {},
   "source": [
    "<img src=\"./data/table_relationships.JPG\" />\n",
    "<strong>Import game data</strong>"
   ]
  },
  {
   "cell_type": "code",
   "execution_count": 3,
   "metadata": {},
   "outputs": [],
   "source": [
    "# Import game table data\n",
    "game_csv = pd.read_csv('./data/game.csv').fillna(np.nan)\n",
    "\n",
    "# Import team info table data\n",
    "team_csv = pd.read_csv(\"./data/team_info.csv\").fillna(np.nan)"
   ]
  },
  {
   "cell_type": "code",
   "execution_count": 8,
   "metadata": {
    "scrolled": true
   },
   "outputs": [
    {
     "name": "stdout",
     "output_type": "stream",
     "text": [
      "(7441, 15)\n",
      "(33, 6)\n"
     ]
    }
   ],
   "source": [
    "# Shape of data (number of rows, and columns)\n",
    "# Get the shape of game csv\n",
    "print(game_csv.shape)\n",
    "# Get the shape of team csv\n",
    "print(team_csv.shape)"
   ]
  },
  {
   "cell_type": "code",
   "execution_count": null,
   "metadata": {},
   "outputs": [],
   "source": [
    "# Why is our dataset interesting to data science"
   ]
  },
  {
   "cell_type": "code",
   "execution_count": null,
   "metadata": {},
   "outputs": [],
   "source": [
    "# Think of interesting data points\n",
    "\n",
    "# Focus on these two topics\n",
    "# 1 - Goals scored at a specific venue and performance of home team at that venue\n",
    "# 2 - Timezone effects on teams performance (goals scored)\n",
    "\n",
    "# Extra points to investigate if not enough data previously\n",
    "# - Time spent on ice versus goals scored\n",
    "# - Team performance based on time between games played (home/away)\n",
    "\n",
    "# Make graphs based on analysis stuff"
   ]
  }
 ],
 "metadata": {
  "kernelspec": {
   "display_name": "Python 3",
   "language": "python",
   "name": "python3"
  },
  "language_info": {
   "codemirror_mode": {
    "name": "ipython",
    "version": 3
   },
   "file_extension": ".py",
   "mimetype": "text/x-python",
   "name": "python",
   "nbconvert_exporter": "python",
   "pygments_lexer": "ipython3",
   "version": "3.6.4"
  }
 },
 "nbformat": 4,
 "nbformat_minor": 2
}
