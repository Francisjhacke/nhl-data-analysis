{
 "cells": [
  {
   "cell_type": "markdown",
   "metadata": {},
   "source": [
    "# NHL Game Data Analysis\n",
    "Andre Dallaire<br>\n",
    "Francis Hackenberger"
   ]
  },
  {
   "cell_type": "code",
   "execution_count": 1,
   "metadata": {},
   "outputs": [],
   "source": [
    "import pandas as pd\n",
    "import numpy as np"
   ]
  },
  {
   "cell_type": "markdown",
   "metadata": {},
   "source": [
    "## Our Data\n",
    "For our analysis we used this dataset __[NHL Game Data](https://www.kaggle.com/martinellis/nhl-game-data)__.  This dataset \n",
    "contains NHL game data for the last 6 years including team and player information.  The data is structured as a relational \n",
    "collection of csv files.  The relationships between these files can be seen in the image below.<br>\n",
    "<img src=\"./data/table_relationships.JPG\" /><br>\n",
    "This data has value to someone working for an NHL team, managing a fantasy hockey team, or working for a sports network.  These are all big money buisnesses now and are creating demand for better analytics which led to things like the partnership \n",
    "between the NHL and SAP.\n",
    "<br>\n",
    "<br>\n",
    "## Import Game Data \n",
    "For this project we will be focusing on the main game data table and will be using the team table to provide descriptions of \n",
    "the data."
   ]
  },
  {
   "cell_type": "code",
   "execution_count": 2,
   "metadata": {},
   "outputs": [],
   "source": [
    "# Import game table data\n",
    "game_csv = pd.read_csv('./data/game.csv').fillna(np.nan)\n",
    "\n",
    "# Import team info table data\n",
    "team_csv = pd.read_csv(\"./data/team_info.csv\").fillna(np.nan)"
   ]
  },
  {
   "cell_type": "markdown",
   "metadata": {},
   "source": [
    "## Volume of the Data\n",
    "we have included the shape of the two tables that we will use for our analysis(game and team)"
   ]
  },
  {
   "cell_type": "code",
   "execution_count": 3,
   "metadata": {
    "scrolled": true
   },
   "outputs": [
    {
     "name": "stdout",
     "output_type": "stream",
     "text": [
      "The game csv has 7441 rows and 15 columns.\n",
      "The team csv has 33 rows and 15 columns.\n"
     ]
    }
   ],
   "source": [
    "game_shape = game_csv.shape\n",
    "team_shape = team_csv.shape\n",
    "\n",
    "print(\"The game csv has \" + str(game_shape[0]) + \" rows and \" + str(game_shape[1]) + \" columns.\")\n",
    "\n",
    "print(\"The team csv has \" + str(team_shape[0]) + \" rows and \" + str(game_shape[1]) + \" columns.\")"
   ]
  },
  {
   "cell_type": "code",
   "execution_count": 4,
   "metadata": {},
   "outputs": [],
   "source": [
    "# Why is our dataset interesting to data science ive added some of this above "
   ]
  },
  {
   "cell_type": "code",
   "execution_count": 5,
   "metadata": {},
   "outputs": [],
   "source": [
    "# Think of interesting data points\n",
    "\n",
    "# Focus on these two topics\n",
    "# 1 - Goals scored at a specific venue and performance of home team at that venue\n",
    "# 2 - Timezone effects on teams performance (goals scored)\n",
    "\n",
    "# Extra points to investigate if not enough data previously\n",
    "# - Time spent on ice versus goals scored\n",
    "# - Team performance based on time between games played (home/away)\n",
    "\n",
    "# Make graphs based on analysis stuff"
   ]
  }
 ],
 "metadata": {
  "kernelspec": {
   "display_name": "Python 3",
   "language": "python",
   "name": "python3"
  },
  "language_info": {
   "codemirror_mode": {
    "name": "ipython",
    "version": 3
   },
   "file_extension": ".py",
   "mimetype": "text/x-python",
   "name": "python",
   "nbconvert_exporter": "python",
   "pygments_lexer": "ipython3",
   "version": "3.7.0"
  }
 },
 "nbformat": 4,
 "nbformat_minor": 2
}
